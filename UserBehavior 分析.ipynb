{
 "cells": [
  {
   "cell_type": "code",
   "execution_count": 21,
   "metadata": {},
   "outputs": [],
   "source": [
    "import numpy as np\n",
    "import pandas as pd\n",
    "import datetime"
   ]
  },
  {
   "cell_type": "code",
   "execution_count": 29,
   "metadata": {},
   "outputs": [
    {
     "name": "stdout",
     "output_type": "stream",
     "text": [
      "<class 'pandas.core.frame.DataFrame'>\n",
      "RangeIndex: 5000000 entries, 0 to 4999999\n",
      "Data columns (total 5 columns):\n",
      " #   Column        Dtype \n",
      "---  ------        ----- \n",
      " 0   UserID        int64 \n",
      " 1   ItemID        int64 \n",
      " 2   CategoryID    int64 \n",
      " 3   Behaviortype  object\n",
      " 4   Timestamp     int64 \n",
      "dtypes: int64(4), object(1)\n",
      "memory usage: 190.7+ MB\n"
     ]
    },
    {
     "data": {
      "text/html": [
       "<div>\n",
       "<style scoped>\n",
       "    .dataframe tbody tr th:only-of-type {\n",
       "        vertical-align: middle;\n",
       "    }\n",
       "\n",
       "    .dataframe tbody tr th {\n",
       "        vertical-align: top;\n",
       "    }\n",
       "\n",
       "    .dataframe thead th {\n",
       "        text-align: right;\n",
       "    }\n",
       "</style>\n",
       "<table border=\"1\" class=\"dataframe\">\n",
       "  <thead>\n",
       "    <tr style=\"text-align: right;\">\n",
       "      <th></th>\n",
       "      <th>UserID</th>\n",
       "      <th>ItemID</th>\n",
       "      <th>CategoryID</th>\n",
       "      <th>Timestamp</th>\n",
       "    </tr>\n",
       "  </thead>\n",
       "  <tbody>\n",
       "    <tr>\n",
       "      <th>count</th>\n",
       "      <td>5.000000e+06</td>\n",
       "      <td>5.000000e+06</td>\n",
       "      <td>5.000000e+06</td>\n",
       "      <td>5.000000e+06</td>\n",
       "    </tr>\n",
       "    <tr>\n",
       "      <th>mean</th>\n",
       "      <td>2.446809e+05</td>\n",
       "      <td>2.579267e+06</td>\n",
       "      <td>2.710101e+06</td>\n",
       "      <td>1.511963e+09</td>\n",
       "    </tr>\n",
       "    <tr>\n",
       "      <th>std</th>\n",
       "      <td>2.265588e+05</td>\n",
       "      <td>1.488103e+06</td>\n",
       "      <td>1.464218e+06</td>\n",
       "      <td>8.400232e+05</td>\n",
       "    </tr>\n",
       "    <tr>\n",
       "      <th>min</th>\n",
       "      <td>1.000000e+00</td>\n",
       "      <td>3.000000e+00</td>\n",
       "      <td>2.171000e+03</td>\n",
       "      <td>4.401600e+04</td>\n",
       "    </tr>\n",
       "    <tr>\n",
       "      <th>25%</th>\n",
       "      <td>1.388410e+05</td>\n",
       "      <td>1.294875e+06</td>\n",
       "      <td>1.349561e+06</td>\n",
       "      <td>1.511763e+09</td>\n",
       "    </tr>\n",
       "    <tr>\n",
       "      <th>50%</th>\n",
       "      <td>2.010450e+05</td>\n",
       "      <td>2.578621e+06</td>\n",
       "      <td>2.710853e+06</td>\n",
       "      <td>1.511966e+09</td>\n",
       "    </tr>\n",
       "    <tr>\n",
       "      <th>75%</th>\n",
       "      <td>2.637270e+05</td>\n",
       "      <td>3.862411e+06</td>\n",
       "      <td>4.145813e+06</td>\n",
       "      <td>1.512181e+09</td>\n",
       "    </tr>\n",
       "    <tr>\n",
       "      <th>max</th>\n",
       "      <td>1.018011e+06</td>\n",
       "      <td>5.163067e+06</td>\n",
       "      <td>5.161669e+06</td>\n",
       "      <td>2.122867e+09</td>\n",
       "    </tr>\n",
       "  </tbody>\n",
       "</table>\n",
       "</div>"
      ],
      "text/plain": [
       "             UserID        ItemID    CategoryID     Timestamp\n",
       "count  5.000000e+06  5.000000e+06  5.000000e+06  5.000000e+06\n",
       "mean   2.446809e+05  2.579267e+06  2.710101e+06  1.511963e+09\n",
       "std    2.265588e+05  1.488103e+06  1.464218e+06  8.400232e+05\n",
       "min    1.000000e+00  3.000000e+00  2.171000e+03  4.401600e+04\n",
       "25%    1.388410e+05  1.294875e+06  1.349561e+06  1.511763e+09\n",
       "50%    2.010450e+05  2.578621e+06  2.710853e+06  1.511966e+09\n",
       "75%    2.637270e+05  3.862411e+06  4.145813e+06  1.512181e+09\n",
       "max    1.018011e+06  5.163067e+06  5.161669e+06  2.122867e+09"
      ]
     },
     "execution_count": 29,
     "metadata": {},
     "output_type": "execute_result"
    }
   ],
   "source": [
    "#データ読み込み\n",
    "reader=pd.read_csv(\"D:/BaiduNetdiskDownload/UserBehavior.csv\",iterator = True)\n",
    "try:\n",
    "    tb=reader.get_chunk(5000000)\n",
    "except StopIteration:\n",
    "    print(\"Iteration is stopped.\")\n",
    "\n",
    "columns=['UserID','ItemID','CategoryID','Behaviortype','Timestamp']\n",
    "tb.columns=columns \n",
    "\n",
    "#データの内訳を確認する\n",
    "tb.info()\n",
    "tb.describe()"
   ]
  },
  {
   "cell_type": "code",
   "execution_count": 30,
   "metadata": {},
   "outputs": [
    {
     "name": "stdout",
     "output_type": "stream",
     "text": [
      "(4999995, 6)\n",
      "(4957144, 6)\n"
     ]
    }
   ],
   "source": [
    "#データの前処理\n",
    "#重複値確認\n",
    "tb.duplicated().sum()\n",
    "#重複値の取り除き\n",
    "tb.drop_duplicates(inplace=True)\n",
    "\n",
    "#データ形転換\n",
    "tb[\"date\"] = tb[\"Timestamp\"].apply(lambda x: datetime.datetime.fromtimestamp(x).date())\n",
    "tb[\"time\"] = tb[\"Timestamp\"].apply(lambda x: datetime.datetime.fromtimestamp(x).strftime('%H'))\n",
    "tb.head()\n",
    "\n",
    "#Timestampを削除する\n",
    "del tb['Timestamp']\n",
    "\n",
    "\n",
    "tb['date'].value_counts()\n",
    "print(tb.shape)\n",
    "# 異常値処理\n",
    "tb['date'] = tb['date'][(tb['date']>=datetime.date(2017,11,25)) & (tb['date']<=datetime.date(2017,12,3))]\n",
    "#空き値処理\n",
    "tb = tb.dropna(axis=0, how='any')\n",
    "print(tb.shape)"
   ]
  },
  {
   "cell_type": "code",
   "execution_count": null,
   "metadata": {},
   "outputs": [],
   "source": [
    "tb.to_csv('tb.csv')"
   ]
  },
  {
   "cell_type": "code",
   "execution_count": null,
   "metadata": {},
   "outputs": [],
   "source": []
  }
 ],
 "metadata": {
  "kernelspec": {
   "display_name": "Python 3",
   "language": "python",
   "name": "python3"
  },
  "language_info": {
   "codemirror_mode": {
    "name": "ipython",
    "version": 3
   },
   "file_extension": ".py",
   "mimetype": "text/x-python",
   "name": "python",
   "nbconvert_exporter": "python",
   "pygments_lexer": "ipython3",
   "version": "3.7.6"
  }
 },
 "nbformat": 4,
 "nbformat_minor": 4
}
